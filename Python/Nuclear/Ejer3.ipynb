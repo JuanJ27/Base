{
 "cells": [
  {
   "cell_type": "code",
   "execution_count": 60,
   "metadata": {},
   "outputs": [],
   "source": [
    "import math\n",
    "# Carga del electrón en coulombs\n",
    "e = 1.602176634e-19  # coulombs\n",
    "\n",
    "# Permitividad del vacío en coulombs^2 / (N m^2)\n",
    "e0 = 8.854187817e-12  # C^2 / (N m^2)"
   ]
  },
  {
   "cell_type": "code",
   "execution_count": 61,
   "metadata": {},
   "outputs": [
    {
     "data": {
      "text/html": [
       "<div>\n",
       "<style scoped>\n",
       "    .dataframe tbody tr th:only-of-type {\n",
       "        vertical-align: middle;\n",
       "    }\n",
       "\n",
       "    .dataframe tbody tr th {\n",
       "        vertical-align: top;\n",
       "    }\n",
       "\n",
       "    .dataframe thead th {\n",
       "        text-align: right;\n",
       "    }\n",
       "</style>\n",
       "<table border=\"1\" class=\"dataframe\">\n",
       "  <thead>\n",
       "    <tr style=\"text-align: right;\">\n",
       "      <th></th>\n",
       "      <th>Z</th>\n",
       "      <th>Delta_EC</th>\n",
       "    </tr>\n",
       "  </thead>\n",
       "  <tbody>\n",
       "    <tr>\n",
       "      <th>0</th>\n",
       "      <td>3</td>\n",
       "      <td>0.763764</td>\n",
       "    </tr>\n",
       "    <tr>\n",
       "      <th>1</th>\n",
       "      <td>5</td>\n",
       "      <td>1.072000</td>\n",
       "    </tr>\n",
       "    <tr>\n",
       "      <th>2</th>\n",
       "      <td>7</td>\n",
       "      <td>1.644000</td>\n",
       "    </tr>\n",
       "    <tr>\n",
       "      <th>3</th>\n",
       "      <td>9</td>\n",
       "      <td>1.850000</td>\n",
       "    </tr>\n",
       "    <tr>\n",
       "      <th>4</th>\n",
       "      <td>11</td>\n",
       "      <td>2.765000</td>\n",
       "    </tr>\n",
       "    <tr>\n",
       "      <th>5</th>\n",
       "      <td>13</td>\n",
       "      <td>3.003000</td>\n",
       "    </tr>\n",
       "    <tr>\n",
       "      <th>6</th>\n",
       "      <td>15</td>\n",
       "      <td>3.536000</td>\n",
       "    </tr>\n",
       "    <tr>\n",
       "      <th>7</th>\n",
       "      <td>17</td>\n",
       "      <td>3.543000</td>\n",
       "    </tr>\n",
       "    <tr>\n",
       "      <th>8</th>\n",
       "      <td>19</td>\n",
       "      <td>4.021000</td>\n",
       "    </tr>\n",
       "    <tr>\n",
       "      <th>9</th>\n",
       "      <td>21</td>\n",
       "      <td>4.330000</td>\n",
       "    </tr>\n",
       "    <tr>\n",
       "      <th>10</th>\n",
       "      <td>23</td>\n",
       "      <td>4.839000</td>\n",
       "    </tr>\n",
       "    <tr>\n",
       "      <th>11</th>\n",
       "      <td>25</td>\n",
       "      <td>5.059000</td>\n",
       "    </tr>\n",
       "    <tr>\n",
       "      <th>12</th>\n",
       "      <td>27</td>\n",
       "      <td>5.595000</td>\n",
       "    </tr>\n",
       "    <tr>\n",
       "      <th>13</th>\n",
       "      <td>29</td>\n",
       "      <td>5.725000</td>\n",
       "    </tr>\n",
       "    <tr>\n",
       "      <th>14</th>\n",
       "      <td>31</td>\n",
       "      <td>6.178000</td>\n",
       "    </tr>\n",
       "    <tr>\n",
       "      <th>15</th>\n",
       "      <td>33</td>\n",
       "      <td>6.365000</td>\n",
       "    </tr>\n",
       "    <tr>\n",
       "      <th>16</th>\n",
       "      <td>35</td>\n",
       "      <td>6.748000</td>\n",
       "    </tr>\n",
       "    <tr>\n",
       "      <th>17</th>\n",
       "      <td>37</td>\n",
       "      <td>6.931000</td>\n",
       "    </tr>\n",
       "    <tr>\n",
       "      <th>18</th>\n",
       "      <td>39</td>\n",
       "      <td>7.313000</td>\n",
       "    </tr>\n",
       "    <tr>\n",
       "      <th>19</th>\n",
       "      <td>41</td>\n",
       "      <td>7.278000</td>\n",
       "    </tr>\n",
       "    <tr>\n",
       "      <th>20</th>\n",
       "      <td>43</td>\n",
       "      <td>7.650000</td>\n",
       "    </tr>\n",
       "    <tr>\n",
       "      <th>21</th>\n",
       "      <td>45</td>\n",
       "      <td>7.915000</td>\n",
       "    </tr>\n",
       "    <tr>\n",
       "      <th>22</th>\n",
       "      <td>47</td>\n",
       "      <td>8.234000</td>\n",
       "    </tr>\n",
       "    <tr>\n",
       "      <th>23</th>\n",
       "      <td>49</td>\n",
       "      <td>8.497000</td>\n",
       "    </tr>\n",
       "    <tr>\n",
       "      <th>24</th>\n",
       "      <td>51</td>\n",
       "      <td>8.802000</td>\n",
       "    </tr>\n",
       "    <tr>\n",
       "      <th>25</th>\n",
       "      <td>55</td>\n",
       "      <td>9.476000</td>\n",
       "    </tr>\n",
       "    <tr>\n",
       "      <th>26</th>\n",
       "      <td>59</td>\n",
       "      <td>9.874000</td>\n",
       "    </tr>\n",
       "  </tbody>\n",
       "</table>\n",
       "</div>"
      ],
      "text/plain": [
       "     Z  Delta_EC\n",
       "0    3  0.763764\n",
       "1    5  1.072000\n",
       "2    7  1.644000\n",
       "3    9  1.850000\n",
       "4   11  2.765000\n",
       "5   13  3.003000\n",
       "6   15  3.536000\n",
       "7   17  3.543000\n",
       "8   19  4.021000\n",
       "9   21  4.330000\n",
       "10  23  4.839000\n",
       "11  25  5.059000\n",
       "12  27  5.595000\n",
       "13  29  5.725000\n",
       "14  31  6.178000\n",
       "15  33  6.365000\n",
       "16  35  6.748000\n",
       "17  37  6.931000\n",
       "18  39  7.313000\n",
       "19  41  7.278000\n",
       "20  43  7.650000\n",
       "21  45  7.915000\n",
       "22  47  8.234000\n",
       "23  49  8.497000\n",
       "24  51  8.802000\n",
       "25  55  9.476000\n",
       "26  59  9.874000"
      ]
     },
     "execution_count": 61,
     "metadata": {},
     "output_type": "execute_result"
    }
   ],
   "source": [
    "import pandas as pd\n",
    "\n",
    "# Ruta al archivo .dat\n",
    "archivo_dat = 'mycoulomb.dat'\n",
    "\n",
    "# Crear el DataFrame desde el archivo .dat\n",
    "df = pd.read_csv(archivo_dat, sep='\\s+', header=None, names=['Z', 'Delta_EC'])\n",
    "\n",
    "# Convertir la columna 'Delta_EC' a tipo numérico\n",
    "df['Delta_EC'] = pd.to_numeric(df['Delta_EC'], errors='coerce')\n",
    "\n",
    "# Multiplicar todos los valores de la columna 'Delta_EC' por 0.0001\n",
    "df['Delta_EC'] = df['Delta_EC'] * 0.001\n",
    "\n",
    "# Eliminar las dos últimas filas\n",
    "df = df.drop(df.tail(2).index)\n",
    "\n",
    "# Mostrar el DataFrame actualizado\n",
    "df"
   ]
  },
  {
   "cell_type": "code",
   "execution_count": 62,
   "metadata": {},
   "outputs": [
    {
     "name": "stdout",
     "output_type": "stream",
     "text": [
      "Intercepto: -0.9291234424046197\n",
      "Constante asociada al radio nuclear: 0.7076157678883706\n"
     ]
    },
    {
     "data": {
      "image/png": "[encoded data removed]",
      "text/plain": [
       "<Figure size 640x480 with 1 Axes>"
      ]
     },
     "metadata": {},
     "output_type": "display_data"
    }
   ],
   "source": [
    "import numpy as np\n",
    "import matplotlib.pyplot as plt\n",
    "\n",
    "# Convertir las columnas 'Z' y 'Delta_EC' a números\n",
    "df['Z'] = pd.to_numeric(df['Z'], errors='coerce')\n",
    "df['Delta_EC'] = pd.to_numeric(df['Delta_EC'], errors='coerce')\n",
    "\n",
    "# Eliminar filas con valores nulos, si los hay\n",
    "df = df.dropna()\n",
    "\n",
    "# Calcular A^(2/3)\n",
    "df['A^(2/3)'] = df['Z']**(2/3)\n",
    "\n",
    "# Crear un array 1D para las variables independientes (x) y dependientes (y)\n",
    "x = df['A^(2/3)'].values\n",
    "y = df['Delta_EC'].values\n",
    "\n",
    "# Ajustar un polinomio de grado 1 (regresión lineal)\n",
    "coeficientes = np.polyfit(x, y, deg=1)\n",
    "\n",
    "# Imprimir los resultados\n",
    "intercepto = coeficientes[1]\n",
    "constante = coeficientes[0]\n",
    "print(f'Intercepto: {intercepto}')\n",
    "print(f'Constante asociada al radio nuclear: {constante}')\n",
    "\n",
    "# Crear una gráfica de Delta_EC vs A^(2/3)\n",
    "plt.scatter(x, y, label='Datos Experimentales')\n",
    "plt.plot(x, np.polyval(coeficientes, x), color='red', label='Línea de Regresión')\n",
    "plt.xlabel('A^(2/3)')\n",
    "plt.ylabel('Delta_EC')\n",
    "plt.legend()\n",
    "plt.show()\n",
    "\n"
   ]
  },
  {
   "cell_type": "code",
   "execution_count": 63,
   "metadata": {},
   "outputs": [
    {
     "name": "stdout",
     "output_type": "stream",
     "text": [
      "Intercepto: -0.9291234424046197\n",
      "Constante asociada al radio nuclear: 0.7076157678883706\n"
     ]
    },
    {
     "data": {
      "image/png": "[encoded data removed]",
      "text/plain": [
       "<Figure size 640x480 with 1 Axes>"
      ]
     },
     "metadata": {},
     "output_type": "display_data"
    }
   ],
   "source": [
    "# Calcular los valores Fit (predicciones de la regresión)\n",
    "fit = np.polyval(coeficientes, x)\n",
    "\n",
    "# Calcular (Delta_EC - Fit)\n",
    "df['Delta_EC - Fit'] = df['Delta_EC'] - fit\n",
    "\n",
    "# Imprimir los resultados\n",
    "intercepto = coeficientes[1]\n",
    "constante = coeficientes[0]\n",
    "print(f'Intercepto: {intercepto}')\n",
    "print(f'Constante asociada al radio nuclear: {constante}')\n",
    "\n",
    "# Crear una gráfica de Delta_EC vs A^(2/3)\n",
    "plt.scatter(x, df['Delta_EC - Fit'], label='Delta_EC - Fit')\n",
    "plt.axhline(0, color='red', linestyle='--', label='Línea cero')\n",
    "plt.xlabel('A^(2/3)')\n",
    "plt.ylabel('(Delta_EC - Fit)')\n",
    "plt.ylim(-0.15, 0.15)\n",
    "plt.legend()\n",
    "plt.show()"
   ]
  },
  {
   "cell_type": "code",
   "execution_count": 64,
   "metadata": {},
   "outputs": [
    {
     "name": "stdout",
     "output_type": "stream",
     "text": [
      "1.2210299637237034e-15\n"
     ]
    }
   ],
   "source": [
    "r0 = (3/5)*(e**2)/(4 * math.pi * e0 *constante)*(1/1.6021e-13)#1 Mev = 1.6021e-13 Joules\n",
    "print(r0) "
   ]
  },
  {
   "cell_type": "code",
   "execution_count": 65,
   "metadata": {},
   "outputs": [
    {
     "data": {
      "text/plain": [
       "2.3176"
      ]
     },
     "execution_count": 65,
     "metadata": {},
     "output_type": "execute_result"
    }
   ],
   "source": [
    "round(abs(((r0-1.25e-15)/1.25e-15)*100),4)"
   ]
  }
 ],
 "metadata": {
  "kernelspec": {
   "display_name": "base",
   "language": "python",
   "name": "python3"
  },
  "language_info": {
   "codemirror_mode": {
    "name": "ipython",
    "version": 3
   },
   "file_extension": ".py",
   "mimetype": "text/x-python",
   "name": "python",
   "nbconvert_exporter": "python",
   "pygments_lexer": "ipython3",
   "version": "3.10.9"
  }
 },
 "nbformat": 4,
 "nbformat_minor": 2
}
