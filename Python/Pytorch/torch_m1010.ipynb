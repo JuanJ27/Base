{
 "cells": [
  {
   "cell_type": "markdown",
   "metadata": {},
   "source": [
    "#  Que necesitas para aprender pytorch?\n",
    "\n",
    "#### -POO\n",
    "#### -Numpy\n",
    "#### -Matploylib\n",
    "#### -Fundamentos de deep learning\n",
    "#### -Hugging face"
   ]
  },
  {
   "cell_type": "markdown",
   "metadata": {},
   "source": [
    "##### Python 3.10.12"
   ]
  },
  {
   "cell_type": "markdown",
   "metadata": {},
   "source": [
    "# Hola mundo en Pytorch;"
   ]
  },
  {
   "cell_type": "code",
   "execution_count": 39,
   "metadata": {},
   "outputs": [],
   "source": [
    "import torch.nn as nn\n",
    "\n",
    "class TextClassifier(nn.Module):\n",
    "\n",
    "    def __init__(self, vocab_size, embedding_dim, hidden_dim, output_dim):\n",
    "        super().__init__()\n",
    "\n",
    "        self.embedding = nn.Embedding(vocab_size, embedding_dim)\n",
    "        self.rnn = nn.LSTM(embedding_dim, hidden_dim, num_layers =2, batch_first=True)#capa 1\n",
    "        self.fc = nn.Linear(hidden_dim, output_dim)#capa 2\n",
    "    \n",
    "    def forward(self, text):\n",
    "        embedded = self.embedding(text)\n",
    "        output, (hidden, cell) = self.rnn(embedded)\n",
    "        final_hidden = hidden[-1]\n",
    "        \n",
    "        return self.fc(final_hidden)"
   ]
  },
  {
   "cell_type": "code",
   "execution_count": 40,
   "metadata": {},
   "outputs": [
    {
     "data": {
      "text/plain": [
       "TextClassifier(\n",
       "  (embedding): Embedding(1000, 100)\n",
       "  (rnn): LSTM(100, 256, num_layers=2, batch_first=True)\n",
       "  (fc): Linear(in_features=256, out_features=2, bias=True)\n",
       ")"
      ]
     },
     "execution_count": 40,
     "metadata": {},
     "output_type": "execute_result"
    }
   ],
   "source": [
    "vocab_size = 1000\n",
    "embedding_dim = 100\n",
    "hidden_dim = 256\n",
    "output_dim = 2\n",
    "\n",
    "model = TextClassifier(vocab_size, embedding_dim, hidden_dim, output_dim)\n",
    "model"
   ]
  },
  {
   "cell_type": "markdown",
   "metadata": {},
   "source": [
    "# Tensores"
   ]
  },
  {
   "cell_type": "code",
   "execution_count": 41,
   "metadata": {},
   "outputs": [
    {
     "name": "stdout",
     "output_type": "stream",
     "text": [
      "2.1.0+cu121\n"
     ]
    }
   ],
   "source": [
    "import torch\n",
    "print(torch.__version__)"
   ]
  },
  {
   "cell_type": "code",
   "execution_count": 42,
   "metadata": {},
   "outputs": [
    {
     "name": "stdout",
     "output_type": "stream",
     "text": [
      "Escalar; tensor([0.3797]) \n",
      " Vector; tensor([[0., 0., 0., 0., 0., 0., 0., 0., 0., 0.]]) \n",
      " Matriz; tensor([[1., 1.],\n",
      "        [1., 1.]])\n"
     ]
    },
    {
     "data": {
      "text/plain": [
       "tensor([[[-1.5949, -0.1845,  1.4115],\n",
       "         [-0.3950, -0.6951, -0.0943]],\n",
       "\n",
       "        [[ 1.7625, -1.0622,  1.3447],\n",
       "         [ 1.1745,  0.7960,  1.7453]],\n",
       "\n",
       "        [[ 0.4835,  0.3862, -0.7559],\n",
       "         [ 1.0678,  0.6478,  0.5646]],\n",
       "\n",
       "        [[ 0.6735,  2.0808,  1.1812],\n",
       "         [-0.6032, -0.0584,  1.6103]],\n",
       "\n",
       "        [[ 1.3259,  1.9450,  0.8283],\n",
       "         [-1.0766, -0.5834,  2.4754]]])"
      ]
     },
     "execution_count": 42,
     "metadata": {},
     "output_type": "execute_result"
    }
   ],
   "source": [
    "escalar = torch.randn(1)\n",
    "vector = torch.zeros(1, 10)\n",
    "matriz = torch.ones(2, 2)\n",
    "print(\"Escalar;\", escalar, \"\\n\", \"Vector;\", vector, \"\\n\", \"Matriz;\", matriz)\n",
    "\n",
    "t5 = torch.randn(5, 2, 3)\n",
    "t5"
   ]
  },
  {
   "cell_type": "code",
   "execution_count": 43,
   "metadata": {},
   "outputs": [
    {
     "data": {
      "text/plain": [
       "tensor([[2, 2],\n",
       "        [3, 3]])"
      ]
     },
     "execution_count": 43,
     "metadata": {},
     "output_type": "execute_result"
    }
   ],
   "source": [
    "torch.tensor([[2,2],[3,3]])"
   ]
  },
  {
   "cell_type": "markdown",
   "metadata": {},
   "source": [
    "#### En un tensor las filas son las variables, las columnas son las series de tiempo, y la \"profundidad\" los registros"
   ]
  },
  {
   "cell_type": "markdown",
   "metadata": {},
   "source": [
    "# Debuggear y operar con tensores"
   ]
  },
  {
   "cell_type": "markdown",
   "metadata": {},
   "source": [
    "#### Shape es para conocer su estructura"
   ]
  },
  {
   "cell_type": "code",
   "execution_count": 44,
   "metadata": {},
   "outputs": [
    {
     "name": "stdout",
     "output_type": "stream",
     "text": [
      "La shape de la matriz es torch.Size([2, 2])\n",
      "La shape del tensor  es torch.Size([5, 2, 3])\n"
     ]
    }
   ],
   "source": [
    "print(f\"La shape de la matriz es {matriz.shape}\")\n",
    "print(f\"La shape del tensor  es {t5.shape}\")"
   ]
  },
  {
   "cell_type": "markdown",
   "metadata": {},
   "source": [
    "#### ndim es para conocer sus dimensiones"
   ]
  },
  {
   "cell_type": "code",
   "execution_count": 45,
   "metadata": {},
   "outputs": [
    {
     "name": "stdout",
     "output_type": "stream",
     "text": [
      "La ndim de la matriz es 2\n",
      "La ndim del tensor  es 3\n"
     ]
    }
   ],
   "source": [
    "print(f\"La ndim de la matriz es {matriz.ndim}\")\n",
    "print(f\"La ndim del tensor  es {t5.ndim}\")"
   ]
  },
  {
   "cell_type": "code",
   "execution_count": 46,
   "metadata": {},
   "outputs": [
    {
     "data": {
      "text/plain": [
       "tensor([[6.1000, 6.2000],\n",
       "        [6.3000, 6.4000]])"
      ]
     },
     "execution_count": 46,
     "metadata": {},
     "output_type": "execute_result"
    }
   ],
   "source": [
    "matriz_float32 = torch.tensor([[3.1, 3.2], [3.3, 3.4]])\n",
    "matriz_uint64 = torch.tensor([[3, 3], [3, 3]])\n",
    "\n",
    "#matriz_float32.dtype, matriz_uint64.dtype\n",
    "\n",
    "matriz_uint64 + matriz_float32"
   ]
  },
  {
   "cell_type": "code",
   "execution_count": 47,
   "metadata": {},
   "outputs": [
    {
     "data": {
      "text/plain": [
       "device(type='cpu')"
      ]
     },
     "execution_count": 47,
     "metadata": {},
     "output_type": "execute_result"
    }
   ],
   "source": [
    "matriz_uint64.device"
   ]
  },
  {
   "cell_type": "code",
   "execution_count": 48,
   "metadata": {},
   "outputs": [
    {
     "data": {
      "text/plain": [
       "False"
      ]
     },
     "execution_count": 48,
     "metadata": {},
     "output_type": "execute_result"
    }
   ],
   "source": [
    "torch.cuda.is_available()"
   ]
  },
  {
   "cell_type": "code",
   "execution_count": 49,
   "metadata": {},
   "outputs": [
    {
     "data": {
      "text/plain": [
       "tensor([1., 1., 1., 1., 1.], dtype=torch.float64)"
      ]
     },
     "execution_count": 49,
     "metadata": {},
     "output_type": "execute_result"
    }
   ],
   "source": [
    "import numpy as np\n",
    "\n",
    "vector = np.ones(5)\n",
    "torch.from_numpy(vector)"
   ]
  },
  {
   "cell_type": "code",
   "execution_count": 50,
   "metadata": {},
   "outputs": [],
   "source": [
    "zeros_tensor = torch.zeros((3,4))\n",
    "\n",
    "ones_tensor = torch.ones((3,4))\n",
    "\n",
    "random_tensor = torch.randn((4))"
   ]
  },
  {
   "cell_type": "code",
   "execution_count": 51,
   "metadata": {},
   "outputs": [],
   "source": [
    "added_tensor = zeros_tensor + ones_tensor\n",
    "\n",
    "subtracted_tensor = zeros_tensor - ones_tensor\n",
    "\n",
    "multiplied_tensor = zeros_tensor * ones_tensor\n",
    "\n",
    "divided_tensor = random_tensor / ones_tensor"
   ]
  },
  {
   "cell_type": "code",
   "execution_count": 52,
   "metadata": {},
   "outputs": [
    {
     "data": {
      "text/plain": [
       "tensor([[ 0.5872,  0.2992],\n",
       "        [-1.2017,  0.0593]])"
      ]
     },
     "execution_count": 52,
     "metadata": {},
     "output_type": "execute_result"
    }
   ],
   "source": [
    "matrix1 = torch.randn(2, 3)\n",
    "matrix2 = torch.randn(3, 2)\n",
    "\n",
    "torch.matmul(matrix1, matrix2)"
   ]
  },
  {
   "cell_type": "markdown",
   "metadata": {},
   "source": [
    "# Generacion de datos"
   ]
  },
  {
   "cell_type": "code",
   "execution_count": 53,
   "metadata": {},
   "outputs": [],
   "source": [
    "import matplotlib.pyplot as plt"
   ]
  },
  {
   "cell_type": "code",
   "execution_count": 54,
   "metadata": {},
   "outputs": [
    {
     "name": "stdout",
     "output_type": "stream",
     "text": [
      "Shape de X: torch.Size([40, 1])\n",
      "Shape de y: torch.Size([40, 1])\n"
     ]
    },
    {
     "data": {
      "text/plain": [
       "(tensor([[0.0000],\n",
       "         [0.0250],\n",
       "         [0.0500],\n",
       "         [0.0750],\n",
       "         [0.1000],\n",
       "         [0.1250],\n",
       "         [0.1500],\n",
       "         [0.1750],\n",
       "         [0.2000],\n",
       "         [0.2250]]),\n",
       " tensor([[0.2000],\n",
       "         [0.2200],\n",
       "         [0.2400],\n",
       "         [0.2600],\n",
       "         [0.2800],\n",
       "         [0.3000],\n",
       "         [0.3200],\n",
       "         [0.3400],\n",
       "         [0.3600],\n",
       "         [0.3800]]))"
      ]
     },
     "execution_count": 54,
     "metadata": {},
     "output_type": "execute_result"
    }
   ],
   "source": [
    "# Parametros\n",
    "\n",
    "volumen = 0.8\n",
    "sesgo = 0.2\n",
    "\n",
    "# Crear datos\n",
    "\n",
    "inicio = 0\n",
    "final = 1\n",
    "step = 0.025\n",
    "X = torch.arange(inicio, final, step).unsqueeze(dim=1)\n",
    "print(f\"Shape de X: {X.shape}\")\n",
    "Y = volumen*X + sesgo\n",
    "print(f\"Shape de y: {Y.shape}\")\n",
    "\n",
    "X[:10],Y[:10]"
   ]
  },
  {
   "cell_type": "markdown",
   "metadata": {},
   "source": [
    "### - Conjunto de entrenamiento: donde el modelo aprende\n",
    "### - Conjunto de prueba: donde el modelo es evaluado"
   ]
  },
  {
   "cell_type": "code",
   "execution_count": 55,
   "metadata": {},
   "outputs": [],
   "source": [
    "# Crear la division\n",
    "\n",
    "train_division = int(0.7 * len(X))\n",
    "X_ent, Y_ent = X[:train_division], Y[:train_division]\n",
    "\n",
    "X_prueba, Y_prueba = X[train_division:], Y[train_division:]"
   ]
  },
  {
   "cell_type": "code",
   "execution_count": 56,
   "metadata": {},
   "outputs": [],
   "source": [
    "def plot_predictions(datos_ent=X_ent,\n",
    "                     etiq_ent=Y_ent,\n",
    "                     datos_prueba=X_prueba,\n",
    "                     etiq_prueba=Y_prueba,\n",
    "                     predictions=None):\n",
    "    \"\"\"\n",
    "    Traza datos de entrenamiento, datos de prueba y compara predicciones\n",
    "    \"\"\"\n",
    "    plt.figure(figsize=(10, 10))\n",
    "\n",
    "    # Traza datos de entrenamiento en verde\n",
    "    plt.scatter(datos_ent, etiq_ent, c=\"g\", s=6,\n",
    "                label=\"Datos de entrenamineto\")\n",
    "\n",
    "    # Traza datos de prueba en amarillo\n",
    "    plt.scatter(datos_prueba, etiq_prueba, c=\"y\", s=6, label=\"Datos de prueba\")\n",
    "\n",
    "    if predictions is not None:\n",
    "        # Traza las predicciones en rojo\n",
    "        plt.scatter(datos_prueba, predictions,\n",
    "                    c=\"r\", s=6, label=\"Predicciones\")\n",
    "\n",
    "    # Leyenda\n",
    "    plt.legend(prop={\"size\": 12});"
   ]
  },
  {
   "cell_type": "code",
   "execution_count": 57,
   "metadata": {},
   "outputs": [
    {
     "data": {
      "image/png": "[encoded data removed]",
      "text/plain": [
       "<Figure size 1000x1000 with 1 Axes>"
      ]
     },
     "metadata": {},
     "output_type": "display_data"
    }
   ],
   "source": [
    "plot_predictions();"
   ]
  },
  {
   "cell_type": "code",
   "execution_count": 58,
   "metadata": {},
   "outputs": [],
   "source": [
    "# Clase 8 de platzi\n",
    "# Crear una clase de modelos de regresion lineal\n",
    "class ModeloRegresionLineal(nn.Module):\n",
    "    def __init__(self):\n",
    "        super().__init__()\n",
    "        self.volumen = nn.Parameter(torch.randn(\n",
    "            1, dtype=torch.float), requires_grad=True)\n",
    "        self.sesgo = nn.Parameter(torch.randn(\n",
    "            1, dtype=torch.float), requires_grad=True)\n",
    "\n",
    "# Definir el calculo\n",
    "\n",
    "    def forward(self, x: torch.Tensor) -> torch.Tensor:\n",
    "        return self.volumen*x + self.sesgo"
   ]
  },
  {
   "cell_type": "code",
   "execution_count": 59,
   "metadata": {},
   "outputs": [],
   "source": [
    "torch.manual_seed(42)\n",
    "# instanciar un objeto de la clase recien\n",
    "\n",
    "model_1 = ModeloRegresionLineal()"
   ]
  },
  {
   "cell_type": "code",
   "execution_count": 60,
   "metadata": {},
   "outputs": [
    {
     "data": {
      "text/plain": [
       "OrderedDict([('volumen', tensor([0.3367])), ('sesgo', tensor([0.1288]))])"
      ]
     },
     "execution_count": 60,
     "metadata": {},
     "output_type": "execute_result"
    }
   ],
   "source": [
    "model_1.state_dict()"
   ]
  },
  {
   "cell_type": "markdown",
   "metadata": {},
   "source": [
    "### Uso de torch.inference_mode()"
   ]
  },
  {
   "cell_type": "code",
   "execution_count": 61,
   "metadata": {},
   "outputs": [
    {
     "data": {
      "text/plain": [
       "tensor([[0.3645],\n",
       "        [0.3729],\n",
       "        [0.3813],\n",
       "        [0.3897],\n",
       "        [0.3982],\n",
       "        [0.4066],\n",
       "        [0.4150],\n",
       "        [0.4234],\n",
       "        [0.4318],\n",
       "        [0.4402],\n",
       "        [0.4487],\n",
       "        [0.4571]])"
      ]
     },
     "execution_count": 61,
     "metadata": {},
     "output_type": "execute_result"
    }
   ],
   "source": [
    "# Hacer predicciones del modelo\n",
    "\n",
    "with torch.inference_mode():\n",
    "    Y_predc = model_1(X_prueba)\n",
    "\n",
    "Y_predc"
   ]
  },
  {
   "cell_type": "code",
   "execution_count": 62,
   "metadata": {},
   "outputs": [
    {
     "data": {
      "image/png": "[encoded data removed]",
      "text/plain": [
       "<Figure size 1000x1000 with 1 Axes>"
      ]
     },
     "metadata": {},
     "output_type": "display_data"
    }
   ],
   "source": [
    "plot_predictions(predictions=Y_predc)"
   ]
  },
  {
   "cell_type": "markdown",
   "metadata": {},
   "source": [
    "#### Funcion de perdida"
   ]
  },
  {
   "cell_type": "code",
   "execution_count": 63,
   "metadata": {},
   "outputs": [
    {
     "data": {
      "text/plain": [
       "SGD (\n",
       "Parameter Group 0\n",
       "    dampening: 0\n",
       "    differentiable: False\n",
       "    foreach: None\n",
       "    lr: 0.01\n",
       "    maximize: False\n",
       "    momentum: 0\n",
       "    nesterov: False\n",
       "    weight_decay: 0\n",
       ")"
      ]
     },
     "execution_count": 63,
     "metadata": {},
     "output_type": "execute_result"
    }
   ],
   "source": [
    "## Funcion de perdida\n",
    "fn_perd = torch.nn.L1Loss()\n",
    "\n",
    "## optimizador\n",
    "\n",
    "optimizador = torch.optim.SGD(params=model_1.parameters(), lr= 0.01) \n",
    "optimizador"
   ]
  },
  {
   "cell_type": "code",
   "execution_count": 64,
   "metadata": {},
   "outputs": [
    {
     "name": "stdout",
     "output_type": "stream",
     "text": [
      "Epoca; 0 | Entrenamineto perdida; 0.22755758464336395 | Test perdida; 0.44638586044311523\n",
      "Epoca; 10 | Entrenamineto perdida; 0.1217288002371788 | Test perdida; 0.32246577739715576\n",
      "Epoca; 20 | Entrenamineto perdida; 0.07873930037021637 | Test perdida; 0.24351508915424347\n",
      "Epoca; 30 | Entrenamineto perdida; 0.06662709265947342 | Test perdida; 0.20124231278896332\n",
      "Epoca; 40 | Entrenamineto perdida; 0.06196669116616249 | Test perdida; 0.1784226894378662\n",
      "Epoca; 50 | Entrenamineto perdida; 0.05890420451760292 | Test perdida; 0.1637665033340454\n",
      "Epoca; 60 | Entrenamineto perdida; 0.056116510182619095 | Test perdida; 0.15557575225830078\n",
      "Epoca; 70 | Entrenamineto perdida; 0.053391676396131516 | Test perdida; 0.14738501608371735\n",
      "Epoca; 80 | Entrenamineto perdida; 0.05066370964050293 | Test perdida; 0.14011786878108978\n",
      "Epoca; 90 | Entrenamineto perdida; 0.047930534929037094 | Test perdida; 0.1328507363796234\n",
      "Epoca; 100 | Entrenamineto perdida; 0.04521039500832558 | Test perdida; 0.124659962952137\n",
      "Epoca; 110 | Entrenamineto perdida; 0.04247772693634033 | Test perdida; 0.11739284545183182\n",
      "Epoca; 120 | Entrenamineto perdida; 0.03974455967545509 | Test perdida; 0.11012572050094604\n",
      "Epoca; 130 | Entrenamineto perdida; 0.03702491521835327 | Test perdida; 0.10193496942520142\n",
      "Epoca; 140 | Entrenamineto perdida; 0.03429174795746803 | Test perdida; 0.09466782212257385\n",
      "Epoca; 150 | Entrenamineto perdida; 0.031560350209474564 | Test perdida; 0.08647706359624863\n",
      "Epoca; 160 | Entrenamineto perdida; 0.028838949277997017 | Test perdida; 0.07920993119478226\n",
      "Epoca; 170 | Entrenamineto perdida; 0.02610577829182148 | Test perdida; 0.07194280624389648\n",
      "Epoca; 180 | Entrenamineto perdida; 0.023379061371088028 | Test perdida; 0.06375212967395782\n",
      "Epoca; 190 | Entrenamineto perdida; 0.020652953535318375 | Test perdida; 0.056485120207071304\n",
      "Epoca; 200 | Entrenamineto perdida; 0.017919788137078285 | Test perdida; 0.04921811446547508\n",
      "Epoca; 210 | Entrenamineto perdida; 0.01519777625799179 | Test perdida; 0.04102744162082672\n",
      "Epoca; 220 | Entrenamineto perdida; 0.012466956861317158 | Test perdida; 0.0337604284286499\n",
      "Epoca; 230 | Entrenamineto perdida; 0.009733783081173897 | Test perdida; 0.026493415236473083\n",
      "Epoca; 240 | Entrenamineto perdida; 0.007014129310846329 | Test perdida; 0.01830274797976017\n",
      "Epoca; 250 | Entrenamineto perdida; 0.004280952271074057 | Test perdida; 0.011035740375518799\n",
      "Epoca; 260 | Entrenamineto perdida; 0.005096507724374533 | Test perdida; 0.0019418647279962897\n",
      "Epoca; 270 | Entrenamineto perdida; 0.005096507724374533 | Test perdida; 0.0019418647279962897\n",
      "Epoca; 280 | Entrenamineto perdida; 0.005096507724374533 | Test perdida; 0.0019418647279962897\n",
      "Epoca; 290 | Entrenamineto perdida; 0.005096507724374533 | Test perdida; 0.0019418647279962897\n"
     ]
    }
   ],
   "source": [
    "## Definir el numero de epocas\n",
    "\n",
    "epocas = 300\n",
    "\n",
    "## Lista vacia para registrar la evolucion del modelo\n",
    "\n",
    "entrenamineto_loss = []\n",
    "test_loss = []\n",
    "\n",
    "for epoca in range(epocas):\n",
    "    ##Entrenamineto\n",
    "\n",
    "    model_1.train() ##Modo de entrenamineto\n",
    "\n",
    "    # 1. Avanzar los datos\n",
    "    Y_predc = model_1(X_ent)\n",
    "\n",
    "    # 2. Calcular perdida\n",
    "    perdida = fn_perd(Y_predc, Y_ent)\n",
    "\n",
    "    # 3. Gradiente cero del optimizador \"iniciar el optimizador limpio\"\n",
    "    optimizador.zero_grad()\n",
    "\n",
    "    # 4. Devolver la perdida\n",
    "    perdida.backward()\n",
    "\n",
    "    # 5. Progresar el optimizador\n",
    "    optimizador.step()\n",
    "\n",
    "    ## Fincion de prueba\n",
    "\n",
    "    model_1.eval() # Modo de evaluacion\n",
    "\n",
    "    with torch.inference_mode():\n",
    "\n",
    "        # 1. Reenviar datos de prueba\n",
    "        prueba_predc = model_1(X_prueba)\n",
    "\n",
    "        # 2. Calcular la perdida\n",
    "        prueba_perd = fn_perd(prueba_predc, Y_prueba.type(torch.float))\n",
    "\n",
    "        #Imprimir lo que pasa\n",
    "\n",
    "        if epoca % 10 == 0:\n",
    "            entrenamineto_loss.append(perdida.detach().numpy())\n",
    "            test_loss.append(prueba_perd.detach().numpy())\n",
    "            print(f\"Epoca; {epoca} | Entrenamineto perdida; {perdida} | Test perdida; {prueba_perd}\")"
   ]
  },
  {
   "cell_type": "code",
   "execution_count": 65,
   "metadata": {},
   "outputs": [
    {
     "data": {
      "text/plain": [
       "<matplotlib.legend.Legend at 0x7f1e313f34c0>"
      ]
     },
     "execution_count": 65,
     "metadata": {},
     "output_type": "execute_result"
    },
    {
     "data": {
      "image/png": "[encoded data removed]",
      "text/plain": [
       "<Figure size 640x480 with 1 Axes>"
      ]
     },
     "metadata": {},
     "output_type": "display_data"
    }
   ],
   "source": [
    "# Graficar\n",
    "\n",
    "plt.plot(entrenamineto_loss, label=\"Perdida de ent\")\n",
    "plt.plot(test_loss, label=\"Perdida de prueb\")\n",
    "plt.ylabel(\"Perdida\")\n",
    "plt.xlabel(\"Epoca\")\n",
    "plt.legend()"
   ]
  },
  {
   "cell_type": "markdown",
   "metadata": {},
   "source": [
    "#### Inferencia con un modelo entrenado"
   ]
  },
  {
   "cell_type": "code",
   "execution_count": 66,
   "metadata": {},
   "outputs": [
    {
     "data": {
      "text/plain": [
       "tensor([[0.7507],\n",
       "        [0.7704],\n",
       "        [0.7901],\n",
       "        [0.8098],\n",
       "        [0.8295],\n",
       "        [0.8493],\n",
       "        [0.8690],\n",
       "        [0.8887],\n",
       "        [0.9084],\n",
       "        [0.9281],\n",
       "        [0.9478],\n",
       "        [0.9675]])"
      ]
     },
     "execution_count": 66,
     "metadata": {},
     "output_type": "execute_result"
    }
   ],
   "source": [
    "# 1. Configura el modelo en modo de evaluacion\n",
    "model_1.eval()\n",
    "\n",
    "# 2. Configura el administrados de contexto del modo de inferencia\n",
    "with torch.inference_mode():\n",
    "\n",
    "# 3. Asegurar que los calculos se hagan en el mismo dispositivo\n",
    "    #model_1.to(device)\n",
    "    #X_prueba = X_prueba.to(device)\n",
    "\n",
    "    Y_predc = model_1(X_prueba)\n",
    "\n",
    "Y_predc\n"
   ]
  },
  {
   "cell_type": "code",
   "execution_count": 67,
   "metadata": {},
   "outputs": [
    {
     "data": {
      "image/png": "[encoded data removed]",
      "text/plain": [
       "<Figure size 1000x1000 with 1 Axes>"
      ]
     },
     "metadata": {},
     "output_type": "display_data"
    }
   ],
   "source": [
    "plot_predictions(predictions=Y_predc)\n",
    "#Clase 11/24"
   ]
  },
  {
   "cell_type": "markdown",
   "metadata": {},
   "source": [
    "En la clase 12 de pytorch hay documentacion relacionada a TensorDataSet con csv"
   ]
  },
  {
   "cell_type": "markdown",
   "metadata": {},
   "source": [
    "# Clasificacion de datos con TorchText"
   ]
  },
  {
   "cell_type": "code",
   "execution_count": 68,
   "metadata": {},
   "outputs": [
    {
     "data": {
      "text/plain": [
       "'0.16.0+cpu'"
      ]
     },
     "execution_count": 68,
     "metadata": {},
     "output_type": "execute_result"
    }
   ],
   "source": [
    "import torchtext\n",
    "from torchtext.datasets import DBpedia\n",
    "\n",
    "torchtext.__version__"
   ]
  },
  {
   "cell_type": "markdown",
   "metadata": {},
   "source": [
    "# Procesando un dataset y creando un vocabulario"
   ]
  },
  {
   "cell_type": "code",
   "execution_count": 69,
   "metadata": {},
   "outputs": [
    {
     "data": {
      "text/plain": [
       "(1,\n",
       " 'E. D. Abbott Ltd  Abbott of Farnham E D Abbott Limited was a British coachbuilding business based in Farnham Surrey trading under that name from 1929. A major part of their output was under sub-contract to motor vehicle manufacturers. Their business closed in 1972.')"
      ]
     },
     "execution_count": 69,
     "metadata": {},
     "output_type": "execute_result"
    }
   ],
   "source": [
    "train_iter = iter(DBpedia(split=\"train\"))\n",
    "next(train_iter)"
   ]
  },
  {
   "cell_type": "markdown",
   "metadata": {},
   "source": [
    "###### Tokenizacion"
   ]
  },
  {
   "cell_type": "code",
   "execution_count": null,
   "metadata": {},
   "outputs": [],
   "source": [
    "from torchtext.data.utils import get_tokenizer\n",
    "from torchtext.vocab import build_vocab_from_iterator\n",
    "\n",
    "tokenizador = get_tokenizer(\"basic_english\")\n",
    "train_iter = DBpedia(split=\"train\")"
   ]
  }
 ],
 "metadata": {
  "kernelspec": {
   "display_name": "base",
   "language": "python",
   "name": "python3"
  },
  "language_info": {
   "codemirror_mode": {
    "name": "ipython",
    "version": 3
   },
   "file_extension": ".py",
   "mimetype": "text/x-python",
   "name": "python",
   "nbconvert_exporter": "python",
   "pygments_lexer": "ipython3",
   "version": "3.10.12"
  }
 },
 "nbformat": 4,
 "nbformat_minor": 2
}
